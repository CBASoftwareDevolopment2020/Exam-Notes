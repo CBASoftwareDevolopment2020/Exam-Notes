{
 "cells": [
  {
   "cell_type": "code",
   "execution_count": 1,
   "metadata": {
    "ExecuteTime": {
     "end_time": "2020-05-27T15:23:58.955025Z",
     "start_time": "2020-05-27T15:23:58.949024Z"
    },
    "slideshow": {
     "slide_type": "skip"
    }
   },
   "outputs": [],
   "source": [
    "def hif(a, i):\n",
    "    # i could also be called \"top\", so think of i as the top element of the small heap (3 elements) largest, right, left\n",
    "    # are all indexes setting largest to root\n",
    "    smalest = i\n",
    "    left = 2 * i + 1  # i = 5 l = 11\n",
    "    right = 2 * i + 2  # i = 5 r = 12\n",
    "    if right < len(a) and a[right] < a[smalest]:\n",
    "        smalest = right\n",
    "    if left < len(a) and a[left] < a[smalest]:\n",
    "        smalest = left\n",
    "    if i != smalest:\n",
    "        a[i], a[smalest] = a[smalest], a[i]\n",
    "        # we call heapify again to make sure our change didnt ruin something further down the tree, we do this recursivly\n",
    "        # all the way to the root of the tree (the top)\n",
    "        hif(a, smalest)"
   ]
  },
  {
   "cell_type": "code",
   "execution_count": 2,
   "metadata": {
    "ExecuteTime": {
     "end_time": "2020-05-27T15:23:59.065031Z",
     "start_time": "2020-05-27T15:23:58.958025Z"
    },
    "slideshow": {
     "slide_type": "skip"
    }
   },
   "outputs": [],
   "source": [
    "def heapify(a):\n",
    "    n = len(a)\n",
    "    # starts our maxheap we go backwards because we wanna, start at the bottom of the tree.\n",
    "    # loop from n to/including 0 -> 5,4,3,2,1,0\n",
    "    for i in range(n, -1, -1):\n",
    "        hif(a, i)"
   ]
  },
  {
   "cell_type": "code",
   "execution_count": 3,
   "metadata": {
    "ExecuteTime": {
     "end_time": "2020-05-27T15:23:59.176037Z",
     "start_time": "2020-05-27T15:23:59.066031Z"
    },
    "slideshow": {
     "slide_type": "skip"
    }
   },
   "outputs": [],
   "source": [
    "def heappop(a):\n",
    "    a[0], a[-1] = a[-1], a[0]\n",
    "    val = a.pop()\n",
    "    hif(a, 0)\n",
    "    return val"
   ]
  },
  {
   "cell_type": "markdown",
   "metadata": {
    "slideshow": {
     "slide_type": "slide"
    }
   },
   "source": [
    "# Graph"
   ]
  },
  {
   "cell_type": "code",
   "execution_count": 4,
   "metadata": {
    "ExecuteTime": {
     "end_time": "2020-05-27T15:23:59.269043Z",
     "start_time": "2020-05-27T15:23:59.177038Z"
    },
    "slideshow": {
     "slide_type": "subslide"
    }
   },
   "outputs": [],
   "source": [
    "class Edge:\n",
    "    def __init__(self, a, b, w=1):\n",
    "        self.a = a\n",
    "        self.b = b\n",
    "        self.w = w\n",
    "\n",
    "    def __lt__(self, other):\n",
    "        return self.w < other.w\n",
    "\n",
    "    def __hash__(self):\n",
    "        return hash(tuple(self))\n",
    "\n",
    "    def __eq__(self, other):\n",
    "        return self.a == other.a and self.b == other.b and self.w == other.w\n",
    "\n",
    "    def __str__(self):\n",
    "        return str(self.a) + \"--\" + str(self.w) + \"--\" + str(self.b)\n",
    "\n",
    "    def __repr__(self):\n",
    "        return str(self.a) + \"--\" + str(self.w) + \"--\" + str(self.b)\n",
    "\n",
    "    def __iter__(self):\n",
    "        for att in self.__dict__.keys():\n",
    "            yield self.__getattribute__(att) "
   ]
  },
  {
   "cell_type": "code",
   "execution_count": 5,
   "metadata": {
    "ExecuteTime": {
     "end_time": "2020-05-27T15:23:59.359048Z",
     "start_time": "2020-05-27T15:23:59.271043Z"
    },
    "slideshow": {
     "slide_type": "subslide"
    }
   },
   "outputs": [],
   "source": [
    "class Vertex:\n",
    "    def __init__(self, v, d=float(\"inf\")):\n",
    "        self.v = v              # vertex\n",
    "        self.d = d              # distance\n",
    "        self.p = None           # parent -> what node was used to get here\n",
    "\n",
    "    def __lt__(self, other):\n",
    "        return self.d < other.d\n",
    "\n",
    "    def __repr__(self):\n",
    "        return \"|\" + str(self.v) + \" \" + str(self.d) + \"|\"\n",
    "\n",
    "    def print_path(self):\n",
    "        s = \"(\" + str(self.v) + \")\"\n",
    "        node = self.p\n",
    "        while(node is not None):\n",
    "            s = \"(\" + str(node.v) + \")->\" + s\n",
    "            node = node.p\n",
    "        print(s)\n",
    "        print(\"-\" * len(s))"
   ]
  },
  {
   "cell_type": "code",
   "execution_count": 6,
   "metadata": {
    "ExecuteTime": {
     "end_time": "2020-05-27T15:23:59.452053Z",
     "start_time": "2020-05-27T15:23:59.360048Z"
    },
    "slideshow": {
     "slide_type": "subslide"
    }
   },
   "outputs": [],
   "source": [
    "from collections import defaultdict\n",
    "class Digraph:\n",
    "    def __init__(self, edges=[]):\n",
    "        self.E = 0\n",
    "        self.known = set()\n",
    "        self.graph = defaultdict(set)\n",
    "        for edge in edges:\n",
    "            self.addEdge(*edge)\n",
    "\n",
    "    @property\n",
    "    def V(self):\n",
    "        return len(self.known)\n",
    "\n",
    "    def addEdge(self, a, b, w=1):\n",
    "        self.E += 1\n",
    "        self.known.add(a)\n",
    "        self.known.add(b)\n",
    "        self.graph[a].add(Edge(a, b, w))\n",
    "\n",
    "    def adj(self, v):\n",
    "        return self.graph[v]\n",
    "\n",
    "    def vers(self):\n",
    "        return self.known\n",
    "\n",
    "    def edges(self):\n",
    "        return sum(map(list, self.graph.values()), [])\n",
    "\n",
    "    def total_weight(self):\n",
    "        return sum(map(lambda e: e.w, self.edges()))\n",
    "\n",
    "    def __str__(self):\n",
    "        return \"\\n\".join([str(k) + \": \" + str(self.graph[k]) for k in self.graph.keys()])"
   ]
  },
  {
   "cell_type": "code",
   "execution_count": 7,
   "metadata": {
    "ExecuteTime": {
     "end_time": "2020-05-27T15:23:59.554059Z",
     "start_time": "2020-05-27T15:23:59.454053Z"
    },
    "slideshow": {
     "slide_type": "subslide"
    }
   },
   "outputs": [
    {
     "name": "stdout",
     "output_type": "stream",
     "text": [
      "A: {A--3--D, A--3--C, A--2--B}\n",
      "B: {B--2--A, B--3--E, B--4--C}\n",
      "C: {C--4--B, C--5--D, C--1--E, C--3--A, C--6--F}\n",
      "D: {D--3--A, D--5--C, D--7--F}\n",
      "E: {E--3--B, E--1--C, E--8--F}\n",
      "F: {F--7--D, F--9--G, F--8--E, F--6--C}\n",
      "G: {G--9--F}\n"
     ]
    }
   ],
   "source": [
    "g = Digraph()\n",
    " edges = ['AB2','AC3', 'AD3', 'BA2', 'BC4', 'BE3', 'CA3', 'CB4', 'CD5', 'CE1', 'CF6', 'DA3', 'DC5', 'DF7', 'EB3', 'EC1',\n",
    "         'EF8', 'FC6', 'FD7', 'FE8', 'FG9', 'GF9']\n",
    "for edge in edges:\n",
    "    a,b,w = edge\n",
    "    g.addEdge(a,b,int(w))\n",
    "    \n",
    "print(g)"
   ]
  },
  {
   "cell_type": "code",
   "execution_count": 8,
   "metadata": {
    "ExecuteTime": {
     "end_time": "2020-05-27T15:23:59.652065Z",
     "start_time": "2020-05-27T15:23:59.556059Z"
    },
    "slideshow": {
     "slide_type": "subslide"
    }
   },
   "outputs": [],
   "source": [
    "def dfs(self, s, e):\n",
    "    path = []\n",
    "    visited = set()\n",
    "    def dfs_helper(v):\n",
    "        if v == e:\n",
    "            return True\n",
    "        visited.add(v)\n",
    "        for edge in self.adj(v):\n",
    "            if edge.b not in visited:\n",
    "                path.append(edge)\n",
    "                if dfs_helper(edge.b):\n",
    "                    return True\n",
    "        return False\n",
    "    return (dfs_helper(s), len(path), path)\n",
    "\n",
    "Digraph.dfs = dfs"
   ]
  },
  {
   "cell_type": "code",
   "execution_count": 9,
   "metadata": {
    "ExecuteTime": {
     "end_time": "2020-05-27T15:23:59.757071Z",
     "start_time": "2020-05-27T15:23:59.653065Z"
    }
   },
   "outputs": [
    {
     "data": {
      "text/plain": [
       "(True, 3, [G--9--F, F--7--D, D--3--A])"
      ]
     },
     "execution_count": 9,
     "metadata": {},
     "output_type": "execute_result"
    }
   ],
   "source": [
    "g.dfs('G','A')"
   ]
  },
  {
   "cell_type": "code",
   "execution_count": 10,
   "metadata": {
    "ExecuteTime": {
     "end_time": "2020-05-27T15:23:59.882078Z",
     "start_time": "2020-05-27T15:23:59.758071Z"
    },
    "slideshow": {
     "slide_type": "subslide"
    }
   },
   "outputs": [],
   "source": [
    "def bfs(self, s, e):\n",
    "    path = []\n",
    "    visited = set([s])\n",
    "    queue = list(self.adj(s))\n",
    "    while(queue):\n",
    "        edge = queue.pop(0)\n",
    "        if edge.b == e:\n",
    "            path.append(edge)\n",
    "            return (True, len(path), path)\n",
    "        if edge.b not in visited:\n",
    "            path.append(edge)\n",
    "            visited.add(edge.b)\n",
    "            queue.extend(self.adj(edge.b))\n",
    "    return (False, len(path), path)\n",
    "\n",
    "Digraph.bfs = bfs"
   ]
  },
  {
   "cell_type": "code",
   "execution_count": 11,
   "metadata": {
    "ExecuteTime": {
     "end_time": "2020-05-27T15:23:59.969083Z",
     "start_time": "2020-05-27T15:23:59.883078Z"
    }
   },
   "outputs": [
    {
     "data": {
      "text/plain": [
       "(True, 5, [G--9--F, F--7--D, F--8--E, F--6--C, D--3--A])"
      ]
     },
     "execution_count": 11,
     "metadata": {},
     "output_type": "execute_result"
    }
   ],
   "source": [
    "g.bfs('G','A')"
   ]
  },
  {
   "cell_type": "code",
   "execution_count": 12,
   "metadata": {
    "ExecuteTime": {
     "end_time": "2020-05-27T15:24:00.077089Z",
     "start_time": "2020-05-27T15:23:59.970083Z"
    },
    "slideshow": {
     "slide_type": "subslide"
    }
   },
   "outputs": [],
   "source": [
    "def mst(self, s):\n",
    "    mst = Digraph()\n",
    "    visited = set([s])\n",
    "    edges = set(self.adj(s))\n",
    "    while(edges):\n",
    "        sel = min(edges)\n",
    "        edges = set(filter(lambda e: e.b != sel.b, edges))\n",
    "        if sel.b not in visited:\n",
    "            visited.add(sel.b)\n",
    "            mst.addEdge(*sel)\n",
    "            for edge in self.adj(sel.b):\n",
    "                if edge.b not in visited:\n",
    "                    edges.add(edge)\n",
    "    return mst\n",
    "    \n",
    "Digraph.mst = mst"
   ]
  },
  {
   "cell_type": "code",
   "execution_count": 13,
   "metadata": {
    "ExecuteTime": {
     "end_time": "2020-05-27T15:24:00.160094Z",
     "start_time": "2020-05-27T15:24:00.078089Z"
    }
   },
   "outputs": [
    {
     "name": "stdout",
     "output_type": "stream",
     "text": [
      "G: {G--9--F}\n",
      "F: {F--6--C}\n",
      "C: {C--3--A, C--1--E}\n",
      "A: {A--3--D, A--2--B}\n"
     ]
    }
   ],
   "source": [
    "print(g.mst('G'))"
   ]
  },
  {
   "cell_type": "code",
   "execution_count": 14,
   "metadata": {
    "ExecuteTime": {
     "end_time": "2020-05-27T15:24:00.243098Z",
     "start_time": "2020-05-27T15:24:00.162094Z"
    },
    "slideshow": {
     "slide_type": "subslide"
    }
   },
   "outputs": [],
   "source": [
    "def dijkstra(self, s):\n",
    "    # Add all of our other verticies to our priorityqueue\n",
    "    pq = list(map(Vertex, self.known))\n",
    "    # Add all our vertices to our dict\n",
    "    d = {v.v: v for v in pq}\n",
    "    # Set distance from s to s\n",
    "    d[s].d = 0\n",
    "    # Heapify our priority queue\n",
    "    heapify(pq)\n",
    "    while(pq):\n",
    "        v = heappop(pq) # Get the first element in our queue\n",
    "        for e in self.adj(v.v): # Look at each edge of the vertex\n",
    "            target_v = d[e.b] # find the Vertex object of the target of the current edge using our dict\n",
    "            if v.d + e.w < target_v.d: # update current edge if distance is greater than current distance + weight of edge\n",
    "                target_v.d = v.d + e.w  # Set new distance to the vertex\n",
    "                target_v.p = v          # Set new previous//parent\n",
    "        heapify(pq)\n",
    "    return d\n",
    "    \n",
    "Digraph.dijkstra = dijkstra"
   ]
  },
  {
   "cell_type": "code",
   "execution_count": 16,
   "metadata": {
    "ExecuteTime": {
     "end_time": "2020-05-27T15:41:28.655064Z",
     "start_time": "2020-05-27T15:41:28.651064Z"
    }
   },
   "outputs": [
    {
     "name": "stdout",
     "output_type": "stream",
     "text": [
      "{'G': |G 0|, 'E': |E 16|, 'D': |D 16|, 'A': |A 18|, 'F': |F 9|, 'C': |C 15|, 'B': |B 19|}\n"
     ]
    }
   ],
   "source": [
    "print(g.dijkstra(\"G\"))"
   ]
  }
 ],
 "metadata": {
  "celltoolbar": "Slideshow",
  "kernelspec": {
   "display_name": "Python 3",
   "language": "python",
   "name": "python3"
  },
  "language_info": {
   "codemirror_mode": {
    "name": "ipython",
    "version": 3
   },
   "file_extension": ".py",
   "mimetype": "text/x-python",
   "name": "python",
   "nbconvert_exporter": "python",
   "pygments_lexer": "ipython3",
   "version": "3.7.7"
  },
  "varInspector": {
   "cols": {
    "lenName": 16,
    "lenType": 16,
    "lenVar": 40
   },
   "kernels_config": {
    "python": {
     "delete_cmd_postfix": "",
     "delete_cmd_prefix": "del ",
     "library": "var_list.py",
     "varRefreshCmd": "print(var_dic_list())"
    },
    "r": {
     "delete_cmd_postfix": ") ",
     "delete_cmd_prefix": "rm(",
     "library": "var_list.r",
     "varRefreshCmd": "cat(var_dic_list()) "
    }
   },
   "types_to_exclude": [
    "module",
    "function",
    "builtin_function_or_method",
    "instance",
    "_Feature"
   ],
   "window_display": false
  }
 },
 "nbformat": 4,
 "nbformat_minor": 4
}
